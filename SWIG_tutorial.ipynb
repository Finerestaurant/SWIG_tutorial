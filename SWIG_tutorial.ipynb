{
  "cells": [
    {
      "cell_type": "markdown",
      "metadata": {
        "id": "lb-xbvUc6WQo"
      },
      "source": [
        "# 서론 \n",
        "\n",
        "* 파이썬은 느리다... \n",
        "\n",
        "* 파이썬이 느린 이유가 몇가지 있겠지만, 하나하나씩 읽어 내려가기 위해 쓰레드를 하나만 사용하도록 잠금을 걸어 놓아서 병렬처리가 안된다는 단점이 하나가 있고,\n",
        "\n",
        "* 하나는 변수를 동적으로 선언하기 때문에 참조하는데에 많은 시간이 걸린다는 것이 있다. \n",
        "\n",
        "* 이때문에 파이썬에서 한번씩 사용해본 넘파이나 텐서플로우 같은 라이브러리들은 모두 C 언어를 직접적으로 가져와서 사용하거나 래핑을 해서 사용한다. \n",
        "\n",
        "* C 언어로 작성된 코드를 파이썬으로 가져오기 위해서 여러 방법들이 존재하는데, 이 글에서는 그중에서 SWIG라는 프로그램이 존재한다. \n",
        "\n",
        "* 최신 업데이트가 2020년 인것으로 보아 활발한 커뮤니티를 가지고 있지는 않지만, 워낙 전통적으로 많이 사용되어져 왔던 프로그램이기 때문에 파이썬을 사용하는 유저로써 알아볼 가치가 있다고 생각한다. "
      ]
    },
    {
      "cell_type": "markdown",
      "metadata": {
        "id": "hsaLqzDD7mRq"
      },
      "source": [
        "# SWIG 설치"
      ]
    },
    {
      "cell_type": "markdown",
      "metadata": {
        "id": "a1g0TWWwTTIc"
      },
      "source": [
        "* SWIG를 설치해주도록 하자.\n",
        "\n",
        "```bash\n",
        "$ sudo apt-get install swig\n",
        "```"
      ]
    },
    {
      "cell_type": "markdown",
      "metadata": {
        "id": "jrSpVn1zU8PM"
      },
      "source": [
        "## 바꿀 C 파일.\n",
        "\n",
        "\n",
        "**example.c**\n",
        "\n",
        "이 c 파일을 파이썬에서 참조할수 있도록 할 것이다. \n",
        "\n",
        "```c\n",
        " /* File : example.c */\n",
        " \n",
        " #include <time.h>\n",
        " double My_variable = 3.0;\n",
        "\n",
        "// 팩토리얼 연산\n",
        " int fact(int n) {\n",
        "     if (n <= 1) return 1;\n",
        "     else return n*fact(n-1);\n",
        " }\n",
        " \n",
        " // 단순한 나누기 연산\n",
        " int my_mod(int x, int y) {\n",
        "     return (x%y);\n",
        " }\n",
        " \t\n",
        "\n",
        "// 시간 가져오는 함수\n",
        " char *get_time()\n",
        " {\n",
        "     time_t ltime;\n",
        "     time(&ltime);\n",
        "     return ctime(&ltime);\n",
        " }\n",
        " \n",
        " \n",
        "```\n",
        "* 모르겠으면 아 그냥 그렇구나 하고 넘기도록 하자. 사실은 나도 잘 모른다.\n",
        "\n",
        "* 다른 점은 파이썬은 타입을 선언해줄 필요가 없다는 점이고, C에서는 변수를 선언할때 항상 변수의 타입에 대해서 선언해주어야 한다는 점이다. \n",
        "\n",
        "* 파이썬은 동적인 타입선언이고, C/C++은 정적인 타입선언이다.\n",
        "\n",
        "\n"
      ]
    },
    {
      "cell_type": "markdown",
      "metadata": {
        "id": "Iy8xGTzKWker"
      },
      "source": [
        "## example.i\n",
        "\n",
        "SWIG가 참조해야할 인터페이스 파일을 하나 생성해야 한다. \n",
        "\n",
        "\n",
        "\n",
        "```\n",
        "/* example.i */\n",
        " %module example\n",
        " %{\n",
        " /* 헤더파일과 함수들을 이곳에 넣어주도록 하자. */\n",
        " extern double My_variable;\n",
        " extern int fact(int n);\n",
        " extern int my_mod(int x, int y);\n",
        " extern char *get_time();\n",
        " %}\n",
        " \n",
        " extern double My_variable;\n",
        " extern int fact(int n);\n",
        " extern int my_mod(int x, int y);\n",
        " extern char *get_time();\n",
        "```"
      ]
    },
    {
      "cell_type": "markdown",
      "metadata": {
        "id": "BKOJgVcV3_Cs"
      },
      "source": [
        "## Python 모듈 생성"
      ]
    },
    {
      "cell_type": "markdown",
      "metadata": {
        "id": "bGuKUev1XDuy"
      },
      "source": [
        "### 방법 1. gcc로 컴파일 후, so 파일 빌드.\n",
        "\n"
      ]
    },
    {
      "cell_type": "markdown",
      "metadata": {
        "id": "5Zw24q5q4N2V"
      },
      "source": [
        "#### Step 1.\n",
        "```\n",
        "% swig -python example.i\n",
        "% gcc -c example.c example_wrap.c \\\n",
        "        -I/usr/local/include/python2.7\n",
        "% ld -shared example.o example_wrap.o -o _example.so \n",
        "```\n",
        "\n",
        "* 하나하나씩 실행하도록 하자. \n",
        "<br>\n",
        "</br>\n",
        "* 컴파일을 해주는 gcc의 옵션인 -c에서 swig로 만든 파일과 우리의 계산 코드를 컴파일 해보면.\n",
        "\n",
        "```\n",
        "% gcc -c example.c example_wrap.c \n",
        "```\n",
        "Python.h가 없다고 오류를 gcc에서 낸다.\n",
        "\n",
        "\n",
        "그렇다면... Python.h가 있는 곳을 찾아서 헤메야 할것 같다는 생각이 자연스레든다...\n"
      ]
    },
    {
      "cell_type": "markdown",
      "metadata": {
        "id": "QzC_omyGdENS"
      },
      "source": [
        "#### Step 2.\n",
        "\n",
        "* SWIG의 튜토리얼 문서에는 `gcc -c example.c example_wrap.c \\-I/usr/local/include/python2.7` 이 명령어를 실행시키라고 설명해주고 있다. \n",
        "\n",
        "* `gcc -c () ()`는 두 파일을 컴파일하는 명령어이고, 뒤의 경로는 무언가를 참조하고 있는 경로로 보여진다. \n",
        "\n",
        "* 우리들의 오류였던 \n",
        "```\n",
        "example_wrap.c:149:11: fatal error: Python.h: No such file or directory\n",
        "  # include <Python.h>\n",
        "            ^~~~~~~~~~\n",
        "```\n",
        "은 아마도 참조해야할 Python.h가 있는 경로를 제대로 설정하지 않아서 인것 처럼 보인다. \n",
        "\n",
        "* 그렇다면 Python.h 파일은 뭐 하는 파일일까...\n",
        "* <https://github.com/python/cpython/tree/main/Include>\n",
        "\n",
        "* 위 링크가 깃허브 Python.h 파일의 주소이다. \n",
        "\n",
        "* 파이썬은 Include라는 폴더에 설치가 되나보다. \n",
        "\n",
        "* 일반 리눅스에서는 /usr/local/include/python2.7/Python.h 으로 경로 설정이 되지만, 어째서인지 코랩에서는 /usr/include/python3.7/Python.h 으로 다운로드가 되어있다. (버전차이는 여러버전이 있을수 있으니... 그렇다치고...)\n",
        "\n",
        "* 문제는 다 해결 되었다. (인줄 알았다.....)\n",
        "```\n",
        "$ gcc -c example.c example_wrap.c \\\n",
        "        -I/usr/include/python3.7\n",
        "```\n",
        "를 실행시켜주면 래핑된 컴파일 파일이 생성이 된다.\n",
        "\n",
        "```bash \n",
        "$ ls \n",
        "\n",
        "example.c example.i example.py example.o example_wrap.c example_wrap.o\n",
        "```"
      ]
    },
    {
      "cell_type": "markdown",
      "metadata": {
        "id": "KVqD2lZa4rFw"
      },
      "source": [
        "#### Step 3.\n",
        "\n",
        "* 이 다음이 문제인데... \n",
        "\n",
        "```\n",
        "$ ld -shared example.o example_wrap.o -o _example.so\n",
        "```\n",
        "\n",
        "* -fPIC을 컴파일 시에 명령어에 입력하라는 오류와 함께 멈추어 버렸다. 정말 여러가지를 시도해봤지만, 조금더 쉬운 방법으로 성공했으니 이 방법은 방치 하는 것으로.... 결정했다...."
      ]
    },
    {
      "cell_type": "markdown",
      "metadata": {
        "id": "yBAsnVMWeb8D"
      },
      "source": [
        "### 방법 2.  setup.py 사용하기."
      ]
    },
    {
      "cell_type": "markdown",
      "metadata": {
        "id": "omgdI6OZ5KnM"
      },
      "source": [
        "#### Step 1.\n",
        "\n",
        "* 우선 방법 1과 똑같이 `% swig -python example.i`를 실행시켜서 example.py와 example_wrap.c 파일을 생성하도록 하자.\n",
        "\n",
        "```       "
      ]
    },
    {
      "cell_type": "markdown",
      "metadata": {
        "id": "IywNymU_5z6s"
      },
      "source": [
        "#### Step 2.\n",
        "\n",
        "* setup.py를 다음과 같이 만들고 그 파일을 실행시키도록 하자.\n",
        "\n",
        "\n",
        "```python\n",
        "#!/usr/bin/env python\n",
        "\n",
        "\"\"\"\n",
        "setup.py file for SWIG example\n",
        "\"\"\"\n",
        "\n",
        "from distutils.core import setup, Extension\n",
        "\n",
        "# Extension 안에 argument로 output파일 이름과, 우리들의 c 파일을 넣어주면 된다. \n",
        "example_module = Extension('_example',\n",
        "                           sources=['example_wrap.c', 'example.c'],\n",
        "                           )\n",
        "\n",
        "                           \n",
        "# setup 안에는 정보와 모듈의 이름이 들어간다. 맞춰주도록 하자. \n",
        "setup (name = 'example',\n",
        "       version = '0.1',\n",
        "       author      = \"SWIG Docs\",\n",
        "       description = \"\"\"Simple swig example from docs\"\"\",\n",
        "       ext_modules = [example_module],\n",
        "       py_modules = [\"example\"],\n",
        "       )\n",
        "```\n",
        "\n",
        "\n",
        "```\n",
        "$ python setup.py build_ext --inplace\n",
        "```\n",
        "\n",
        "이렇게 실행시키면 example 이라는 모듈을 사용할수 있게 된다."
      ]
    },
    {
      "cell_type": "markdown",
      "metadata": {
        "id": "RQ7-wwBT6QAs"
      },
      "source": [
        "# 결과 비교"
      ]
    },
    {
      "cell_type": "markdown",
      "metadata": {
        "id": "i-GN4G-e0_rr"
      },
      "source": [
        "* example_py.py 파일을 하나 준비해서 같은 팩토리얼 함수를 작성하자.\n",
        "\n",
        "```python\n",
        "def fact(x):\n",
        "  if x == 1:\n",
        "    return x\n",
        "  else:\n",
        "    return x * fact(x-1) \n",
        "```\n",
        "\n"
      ]
    },
    {
      "cell_type": "code",
      "execution_count": null,
      "metadata": {
        "id": "7AouJYULN7Bw"
      },
      "outputs": [],
      "source": [
        "import example\n",
        "import example_py\n",
        "from time import time"
      ]
    },
    {
      "cell_type": "markdown",
      "metadata": {
        "id": "tUHoiEpH9g4S"
      },
      "source": [
        "* 우리가 SWIG로 만든 모듈과 파이썬 모듈로 비교해보도록 하자."
      ]
    },
    {
      "cell_type": "code",
      "execution_count": null,
      "metadata": {
        "colab": {
          "base_uri": "https://localhost:8080/"
        },
        "id": "AukiSXnU09q3",
        "outputId": "f158593f-f30b-4d79-ecf9-cc2b1f36ae0e"
      },
      "outputs": [
        {
          "name": "stdout",
          "output_type": "stream",
          "text": [
            "SWIG time 0.02 sec\n",
            "Python time 0.07 sec\n",
            "3.38 times faster\n"
          ]
        }
      ],
      "source": [
        "iter_num = 100000\n",
        "\n",
        "start = time()\n",
        "for i in range(0,iter_num):\n",
        "    example.fact(5)\n",
        "end = time()\n",
        "print(f'SWIG time {round(end -start, 2)} sec')\n",
        "\n",
        "swig_time = end - start\n",
        "\n",
        "python_start = time()\n",
        "for i in range(0,iter_num):\n",
        "    example_py.fact(5)\n",
        "python_end = time()\n",
        "print(f'Python time {round(python_end - python_start, 2)} sec')\n",
        "\n",
        "python_time = python_end - python_start\n",
        "\n",
        "print(f'{round(python_time/swig_time , 2)} times faster')"
      ]
    },
    {
      "cell_type": "markdown",
      "metadata": {
        "id": "35La7HMv9pO9"
      },
      "source": [
        "* 거의 3배나 차이가 나는 것을 볼수 있다. \n",
        "\n",
        "* 물론 어떠한 알고리즘이며 어떠한 로직인지 봐야 하겠지만, 이 정도면 상당히 차이가 많이나는 것을 볼수 있다. "
      ]
    }
  ],
  "metadata": {
    "colab": {
      "collapsed_sections": [
        "jrSpVn1zU8PM",
        "bGuKUev1XDuy"
      ],
      "name": "SWIG tutorial.ipynb",
      "provenance": []
    },
    "kernelspec": {
      "display_name": "Python 3",
      "name": "python3"
    },
    "language_info": {
      "name": "python"
    }
  },
  "nbformat": 4,
  "nbformat_minor": 0
}
